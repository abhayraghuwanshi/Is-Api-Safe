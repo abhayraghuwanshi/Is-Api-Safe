{
  "nbformat": 4,
  "nbformat_minor": 0,
  "metadata": {
    "colab": {
      "name": "Monoxor.ipynb",
      "provenance": [],
      "authorship_tag": "ABX9TyM93+gyFNmOCrg6KU51XYAR",
      "include_colab_link": true
    },
    "kernelspec": {
      "name": "python3",
      "display_name": "Python 3"
    }
  },
  "cells": [
    {
      "cell_type": "markdown",
      "metadata": {
        "id": "view-in-github",
        "colab_type": "text"
      },
      "source": [
        "<a href=\"https://colab.research.google.com/github/abhayraghuwanshi/Is-Api-Safe/blob/main/Monoxor.ipynb\" target=\"_parent\"><img src=\"https://colab.research.google.com/assets/colab-badge.svg\" alt=\"Open In Colab\"/></a>"
      ]
    },
    {
      "cell_type": "markdown",
      "metadata": {
        "id": "qhFomwiBicG6"
      },
      "source": [
        "<h1> Data Import</h1>"
      ]
    },
    {
      "cell_type": "code",
      "metadata": {
        "id": "tix1leTKoimR"
      },
      "source": [
        "import json\n",
        "import pandas as pd\n",
        "import requests\n",
        "import numpy as np"
      ],
      "execution_count": null,
      "outputs": []
    },
    {
      "cell_type": "code",
      "metadata": {
        "id": "2lSzbS74qCUE"
      },
      "source": [
        "url = \"https://jsonblob.com/api/jsonBlob/f0b70eef-566b-11eb-9d92-415b3ac53928\""
      ],
      "execution_count": null,
      "outputs": []
    },
    {
      "cell_type": "code",
      "metadata": {
        "id": "WL9eKdo9qcLg"
      },
      "source": [
        "response = requests.get(url)"
      ],
      "execution_count": null,
      "outputs": []
    },
    {
      "cell_type": "code",
      "metadata": {
        "id": "P6avIHgtqhjn"
      },
      "source": [
        "payload = response.json()"
      ],
      "execution_count": null,
      "outputs": []
    },
    {
      "cell_type": "code",
      "metadata": {
        "id": "_nGtq-eVtryf"
      },
      "source": [
        "def flatten_json(y):\n",
        "    out = {}\n",
        "\n",
        "    def flatten(x, name=''):\n",
        "        if type(x) is dict:\n",
        "            for a in x:\n",
        "                flatten(x[a], name + a + '_')\n",
        "        elif type(x) is list:\n",
        "            i = 0\n",
        "            for a in x:\n",
        "                flatten(a, name + str(i) + '_')\n",
        "                i += 1\n",
        "        else:\n",
        "            out[name[:-1]] = x\n",
        "\n",
        "    flatten(y)\n",
        "    return out"
      ],
      "execution_count": null,
      "outputs": []
    },
    {
      "cell_type": "code",
      "metadata": {
        "id": "ZvfEG8Y0vaig"
      },
      "source": [
        "for index, data in enumerate(payload):\n",
        "  payload[index] = flatten_json(data)"
      ],
      "execution_count": null,
      "outputs": []
    },
    {
      "cell_type": "code",
      "metadata": {
        "id": "5k34toGHxlM-"
      },
      "source": [
        "data = pd.DataFrame(payload)"
      ],
      "execution_count": null,
      "outputs": []
    },
    {
      "cell_type": "code",
      "metadata": {
        "colab": {
          "base_uri": "https://localhost:8080/",
          "height": 383
        },
        "id": "xYnIOdPEyReJ",
        "outputId": "5e958604-0527-450c-c156-23eb23641991"
      },
      "source": [
        "data.head()"
      ],
      "execution_count": null,
      "outputs": [
        {
          "output_type": "execute_result",
          "data": {
            "text/html": [
              "<div>\n",
              "<style scoped>\n",
              "    .dataframe tbody tr th:only-of-type {\n",
              "        vertical-align: middle;\n",
              "    }\n",
              "\n",
              "    .dataframe tbody tr th {\n",
              "        vertical-align: top;\n",
              "    }\n",
              "\n",
              "    .dataframe thead th {\n",
              "        text-align: right;\n",
              "    }\n",
              "</style>\n",
              "<table border=\"1\" class=\"dataframe\">\n",
              "  <thead>\n",
              "    <tr style=\"text-align: right;\">\n",
              "      <th></th>\n",
              "      <th>req_baseUrl</th>\n",
              "      <th>req_body_note_title</th>\n",
              "      <th>req_body_note_desc</th>\n",
              "      <th>req_fresh</th>\n",
              "      <th>req_headers_host</th>\n",
              "      <th>req_headers_user-agent</th>\n",
              "      <th>req_headers_content-type</th>\n",
              "      <th>req_headers_org_id</th>\n",
              "      <th>req_headers_user_session_id</th>\n",
              "      <th>req_headers_accept</th>\n",
              "      <th>req_headers_content-length</th>\n",
              "      <th>req_headers_user_name</th>\n",
              "      <th>req_headers_user_role</th>\n",
              "      <th>req_hostname</th>\n",
              "      <th>req_ip</th>\n",
              "      <th>req_originalUrl</th>\n",
              "      <th>req_path</th>\n",
              "      <th>req_protocol</th>\n",
              "      <th>req_secure</th>\n",
              "      <th>req_stale</th>\n",
              "      <th>req_subdomains_0</th>\n",
              "      <th>req_xhr</th>\n",
              "      <th>isSafe</th>\n",
              "    </tr>\n",
              "  </thead>\n",
              "  <tbody>\n",
              "    <tr>\n",
              "      <th>0</th>\n",
              "      <td>/crm/note</td>\n",
              "      <td>Tina Johnson</td>\n",
              "      <td>Top recognize eat. Fact whom spend area thing ...</td>\n",
              "      <td>False</td>\n",
              "      <td>example.com</td>\n",
              "      <td>insomnia/2020.4.2</td>\n",
              "      <td>application/json</td>\n",
              "      <td>5f572820f65af8ac955b2e83</td>\n",
              "      <td>5fb27d3750b11901a35649fe</td>\n",
              "      <td>*/*</td>\n",
              "      <td>70</td>\n",
              "      <td>sam</td>\n",
              "      <td>sales1</td>\n",
              "      <td>example.com</td>\n",
              "      <td>::ffff:117.99.96.244</td>\n",
              "      <td>/crm/note</td>\n",
              "      <td>/note</td>\n",
              "      <td>http</td>\n",
              "      <td>False</td>\n",
              "      <td>True</td>\n",
              "      <td>crm</td>\n",
              "      <td>False</td>\n",
              "      <td>True</td>\n",
              "    </tr>\n",
              "    <tr>\n",
              "      <th>1</th>\n",
              "      <td>/crm/note</td>\n",
              "      <td>Clayton Cooper</td>\n",
              "      <td>As possible American many prepare four strong....</td>\n",
              "      <td>False</td>\n",
              "      <td>example.com</td>\n",
              "      <td>insomnia/2020.4.2</td>\n",
              "      <td>application/json</td>\n",
              "      <td>5f572820f65af8ac955b2e83</td>\n",
              "      <td>5fb27d3750b11901a35649fe</td>\n",
              "      <td>*/*</td>\n",
              "      <td>70</td>\n",
              "      <td>sam</td>\n",
              "      <td>sales1</td>\n",
              "      <td>example.com</td>\n",
              "      <td>::ffff:117.99.96.244</td>\n",
              "      <td>/crm/note</td>\n",
              "      <td>/note</td>\n",
              "      <td>http</td>\n",
              "      <td>False</td>\n",
              "      <td>True</td>\n",
              "      <td>crm</td>\n",
              "      <td>False</td>\n",
              "      <td>True</td>\n",
              "    </tr>\n",
              "    <tr>\n",
              "      <th>2</th>\n",
              "      <td>/crm/note</td>\n",
              "      <td>Curtis Wolfe</td>\n",
              "      <td>Tuesday Notes or 2 like 2 XSP Class</td>\n",
              "      <td>False</td>\n",
              "      <td>example.com</td>\n",
              "      <td>insomnia/2020.4.2</td>\n",
              "      <td>application/json</td>\n",
              "      <td>5f572820f65af8ac955b2e83</td>\n",
              "      <td>5fb27d3750b11901a35649fe</td>\n",
              "      <td>*/*</td>\n",
              "      <td>70</td>\n",
              "      <td>sam</td>\n",
              "      <td>sales1</td>\n",
              "      <td>example.com</td>\n",
              "      <td>::ffff:117.99.96.244</td>\n",
              "      <td>/crm/note</td>\n",
              "      <td>/note</td>\n",
              "      <td>http</td>\n",
              "      <td>False</td>\n",
              "      <td>True</td>\n",
              "      <td>crm</td>\n",
              "      <td>False</td>\n",
              "      <td>False</td>\n",
              "    </tr>\n",
              "    <tr>\n",
              "      <th>3</th>\n",
              "      <td>/crm/note</td>\n",
              "      <td>Laura Fisher</td>\n",
              "      <td>State third represent energy campaign not forg...</td>\n",
              "      <td>False</td>\n",
              "      <td>example.com</td>\n",
              "      <td>insomnia/2020.4.2</td>\n",
              "      <td>application/json</td>\n",
              "      <td>5f572820f65af8ac955b2e83</td>\n",
              "      <td>5fb27d3750b11901a35649fe</td>\n",
              "      <td>*/*</td>\n",
              "      <td>70</td>\n",
              "      <td>sam</td>\n",
              "      <td>sales1</td>\n",
              "      <td>example.com</td>\n",
              "      <td>::ffff:117.99.96.244</td>\n",
              "      <td>/crm/note</td>\n",
              "      <td>/note</td>\n",
              "      <td>http</td>\n",
              "      <td>False</td>\n",
              "      <td>True</td>\n",
              "      <td>crm</td>\n",
              "      <td>False</td>\n",
              "      <td>True</td>\n",
              "    </tr>\n",
              "    <tr>\n",
              "      <th>4</th>\n",
              "      <td>/crm/note</td>\n",
              "      <td>Tyler Santos</td>\n",
              "      <td>Us enjoy since. Time identify image position o...</td>\n",
              "      <td>False</td>\n",
              "      <td>example.com</td>\n",
              "      <td>insomnia/2020.4.2</td>\n",
              "      <td>application/json</td>\n",
              "      <td>5f572820f65af8ac955b2e83</td>\n",
              "      <td>5fb27d3750b11901a35649fe</td>\n",
              "      <td>*/*</td>\n",
              "      <td>70</td>\n",
              "      <td>sam</td>\n",
              "      <td>sales1</td>\n",
              "      <td>example.com</td>\n",
              "      <td>::ffff:117.99.96.244</td>\n",
              "      <td>/crm/note</td>\n",
              "      <td>/note</td>\n",
              "      <td>http</td>\n",
              "      <td>False</td>\n",
              "      <td>True</td>\n",
              "      <td>crm</td>\n",
              "      <td>False</td>\n",
              "      <td>False</td>\n",
              "    </tr>\n",
              "  </tbody>\n",
              "</table>\n",
              "</div>"
            ],
            "text/plain": [
              "  req_baseUrl req_body_note_title  ... req_xhr  isSafe\n",
              "0   /crm/note        Tina Johnson  ...   False    True\n",
              "1   /crm/note      Clayton Cooper  ...   False    True\n",
              "2   /crm/note        Curtis Wolfe  ...   False   False\n",
              "3   /crm/note        Laura Fisher  ...   False    True\n",
              "4   /crm/note        Tyler Santos  ...   False   False\n",
              "\n",
              "[5 rows x 23 columns]"
            ]
          },
          "metadata": {
            "tags": []
          },
          "execution_count": 8
        }
      ]
    },
    {
      "cell_type": "code",
      "metadata": {
        "colab": {
          "base_uri": "https://localhost:8080/"
        },
        "id": "OGw1Ycuzya1E",
        "outputId": "c1b59f6e-4e69-498f-880d-1a985650aea4"
      },
      "source": [
        "for col in data.columns:\n",
        "  print(col, data[col].nunique())"
      ],
      "execution_count": null,
      "outputs": [
        {
          "output_type": "stream",
          "text": [
            "req_baseUrl 1\n",
            "req_body_note_title 994\n",
            "req_body_note_desc 750\n",
            "req_fresh 1\n",
            "req_headers_host 1\n",
            "req_headers_user-agent 1\n",
            "req_headers_content-type 1\n",
            "req_headers_org_id 1\n",
            "req_headers_user_session_id 1\n",
            "req_headers_accept 1\n",
            "req_headers_content-length 1\n",
            "req_headers_user_name 1\n",
            "req_headers_user_role 1\n",
            "req_hostname 1\n",
            "req_ip 1\n",
            "req_originalUrl 1\n",
            "req_path 1\n",
            "req_protocol 1\n",
            "req_secure 1\n",
            "req_stale 1\n",
            "req_subdomains_0 1\n",
            "req_xhr 1\n",
            "isSafe 2\n"
          ],
          "name": "stdout"
        }
      ]
    },
    {
      "cell_type": "code",
      "metadata": {
        "colab": {
          "base_uri": "https://localhost:8080/"
        },
        "id": "bKw10wjPy3ri",
        "outputId": "f6aef965-51b8-4fe1-9a69-c0bf1286e3e3"
      },
      "source": [
        "data.isSafe.value_counts()"
      ],
      "execution_count": null,
      "outputs": [
        {
          "output_type": "execute_result",
          "data": {
            "text/plain": [
              "True     572\n",
              "False    428\n",
              "Name: isSafe, dtype: int64"
            ]
          },
          "metadata": {
            "tags": []
          },
          "execution_count": 10
        }
      ]
    },
    {
      "cell_type": "markdown",
      "metadata": {
        "id": "X6P6lOIgJvw6"
      },
      "source": [
        "<h3> TEXT CLEANING </h3>"
      ]
    },
    {
      "cell_type": "code",
      "metadata": {
        "colab": {
          "base_uri": "https://localhost:8080/"
        },
        "id": "29M5ZBINKQzb",
        "outputId": "d0bd34cf-e619-44da-9323-faec65b9b2f4"
      },
      "source": [
        "!pip install unidecode\n",
        "!pip install word2number"
      ],
      "execution_count": null,
      "outputs": [
        {
          "output_type": "stream",
          "text": [
            "Collecting unidecode\n",
            "\u001b[?25l  Downloading https://files.pythonhosted.org/packages/74/65/91eab655041e9e92f948cb7302e54962035762ce7b518272ed9d6b269e93/Unidecode-1.1.2-py2.py3-none-any.whl (239kB)\n",
            "\r\u001b[K     |█▍                              | 10kB 15.1MB/s eta 0:00:01\r\u001b[K     |██▊                             | 20kB 10.4MB/s eta 0:00:01\r\u001b[K     |████                            | 30kB 8.5MB/s eta 0:00:01\r\u001b[K     |█████▌                          | 40kB 7.1MB/s eta 0:00:01\r\u001b[K     |██████▉                         | 51kB 4.3MB/s eta 0:00:01\r\u001b[K     |████████▏                       | 61kB 4.8MB/s eta 0:00:01\r\u001b[K     |█████████▋                      | 71kB 4.8MB/s eta 0:00:01\r\u001b[K     |███████████                     | 81kB 5.1MB/s eta 0:00:01\r\u001b[K     |████████████▎                   | 92kB 5.4MB/s eta 0:00:01\r\u001b[K     |█████████████▊                  | 102kB 5.4MB/s eta 0:00:01\r\u001b[K     |███████████████                 | 112kB 5.4MB/s eta 0:00:01\r\u001b[K     |████████████████▍               | 122kB 5.4MB/s eta 0:00:01\r\u001b[K     |█████████████████▊              | 133kB 5.4MB/s eta 0:00:01\r\u001b[K     |███████████████████▏            | 143kB 5.4MB/s eta 0:00:01\r\u001b[K     |████████████████████▌           | 153kB 5.4MB/s eta 0:00:01\r\u001b[K     |█████████████████████▉          | 163kB 5.4MB/s eta 0:00:01\r\u001b[K     |███████████████████████▎        | 174kB 5.4MB/s eta 0:00:01\r\u001b[K     |████████████████████████▋       | 184kB 5.4MB/s eta 0:00:01\r\u001b[K     |██████████████████████████      | 194kB 5.4MB/s eta 0:00:01\r\u001b[K     |███████████████████████████▍    | 204kB 5.4MB/s eta 0:00:01\r\u001b[K     |████████████████████████████▊   | 215kB 5.4MB/s eta 0:00:01\r\u001b[K     |██████████████████████████████  | 225kB 5.4MB/s eta 0:00:01\r\u001b[K     |███████████████████████████████▍| 235kB 5.4MB/s eta 0:00:01\r\u001b[K     |████████████████████████████████| 245kB 5.4MB/s \n",
            "\u001b[?25hInstalling collected packages: unidecode\n",
            "Successfully installed unidecode-1.1.2\n",
            "Collecting word2number\n",
            "  Downloading https://files.pythonhosted.org/packages/4a/29/a31940c848521f0725f0df6b25dca8917f13a2025b0e8fcbe5d0457e45e6/word2number-1.1.zip\n",
            "Building wheels for collected packages: word2number\n",
            "  Building wheel for word2number (setup.py) ... \u001b[?25l\u001b[?25hdone\n",
            "  Created wheel for word2number: filename=word2number-1.1-cp36-none-any.whl size=5588 sha256=81b4def4325d614748ea4b67156c8e2b0f0927814d67dc2c365d42c671ad9c3d\n",
            "  Stored in directory: /root/.cache/pip/wheels/46/2f/53/5f5c1d275492f2fce1cdab9a9bb12d49286dead829a4078e0e\n",
            "Successfully built word2number\n",
            "Installing collected packages: word2number\n",
            "Successfully installed word2number-1.1\n"
          ],
          "name": "stdout"
        }
      ]
    },
    {
      "cell_type": "code",
      "metadata": {
        "colab": {
          "base_uri": "https://localhost:8080/"
        },
        "id": "It07E85EKlKm",
        "outputId": "34c67b34-de7b-43d1-eaff-f6c2d6b3bb99"
      },
      "source": [
        "pip install contractions"
      ],
      "execution_count": null,
      "outputs": [
        {
          "output_type": "stream",
          "text": [
            "Collecting contractions\n",
            "  Downloading https://files.pythonhosted.org/packages/4a/5f/91102df95715fdda07f56a7eba2baae983e2ae16a080eb52d79e08ec6259/contractions-0.0.45-py2.py3-none-any.whl\n",
            "Collecting textsearch\n",
            "  Downloading https://files.pythonhosted.org/packages/42/a8/03407021f9555043de5492a2bd7a35c56cc03c2510092b5ec018cae1bbf1/textsearch-0.0.17-py2.py3-none-any.whl\n",
            "Collecting pyahocorasick\n",
            "\u001b[?25l  Downloading https://files.pythonhosted.org/packages/f4/9f/f0d8e8850e12829eea2e778f1c90e3c53a9a799b7f412082a5d21cd19ae1/pyahocorasick-1.4.0.tar.gz (312kB)\n",
            "\u001b[K     |████████████████████████████████| 317kB 5.9MB/s \n",
            "\u001b[?25hRequirement already satisfied: Unidecode in /usr/local/lib/python3.6/dist-packages (from textsearch->contractions) (1.1.2)\n",
            "Building wheels for collected packages: pyahocorasick\n",
            "  Building wheel for pyahocorasick (setup.py) ... \u001b[?25l\u001b[?25hdone\n",
            "  Created wheel for pyahocorasick: filename=pyahocorasick-1.4.0-cp36-cp36m-linux_x86_64.whl size=81690 sha256=630982b4d32dad6f80326f564d31cc7d35c1b4417412a7b8676248703edb0b14\n",
            "  Stored in directory: /root/.cache/pip/wheels/0a/90/61/87a55f5b459792fbb2b7ba6b31721b06ff5cf6bde541b40994\n",
            "Successfully built pyahocorasick\n",
            "Installing collected packages: pyahocorasick, textsearch, contractions\n",
            "Successfully installed contractions-0.0.45 pyahocorasick-1.4.0 textsearch-0.0.17\n"
          ],
          "name": "stdout"
        }
      ]
    },
    {
      "cell_type": "code",
      "metadata": {
        "id": "LM7ZLNzwJ6GF"
      },
      "source": [
        "from textblob import TextBlob\n",
        "from textblob import Word\n",
        "import unidecode\n",
        "from bs4 import BeautifulSoup\n",
        "import string\n",
        "from word2number import w2n\n",
        "import re\n",
        "import spacy\n",
        "import contractions as con"
      ],
      "execution_count": null,
      "outputs": []
    },
    {
      "cell_type": "code",
      "metadata": {
        "id": "be0ESWuEJ0iP"
      },
      "source": [
        "def text_cleaning(text):\n",
        "    \n",
        "    def remove_extra_space(text):\n",
        "        return re.sub(\"\\s\\s+\" , \" \", text)\n",
        "    \n",
        "    def strip_html_tags(text):\n",
        "        \"\"\"remove html tags from text\"\"\"\n",
        "        soup = BeautifulSoup(text, \"html.parser\")\n",
        "        stripped_text = soup.get_text(separator=\" \")\n",
        "        return stripped_text\n",
        "\n",
        "    def remove_punct(text):\n",
        "        \"\"\" removing these '!\"#$%&\\'()*+,-./:;<=>?@[\\\\]^_`{|}~' \"\"\"\n",
        "        text_clean = \"\".join([i.lower() for i in text if i not in string.punctuation])\n",
        "        return text_clean\n",
        "\n",
        "    def remove_accented_chars(text):\n",
        "        \"\"\"remove accented characters from text, e.g. café\"\"\"\n",
        "        text = unidecode.unidecode(text)\n",
        "        return text\n",
        "    \n",
        "    def remove_contractions(text):\n",
        "        return con.fix(text)\n",
        "    \n",
        "    def remove_links(text):\n",
        "        return re.sub('http://\\S+|https://\\S+', \"\", text)\n",
        "                      \n",
        "    def deEmojify(text):\n",
        "        regrex_pattern = re.compile(pattern = \"[\"\n",
        "            u\"\\U0001F600-\\U0001F64F\"  # emoticons\n",
        "            u\"\\U0001F300-\\U0001F5FF\"  # symbols & pictographs\n",
        "            u\"\\U0001F680-\\U0001F6FF\"  # transport & map symbols\n",
        "            u\"\\U0001F1E0-\\U0001F1FF\"  # flags (iOS)\n",
        "                               \"]+\", flags = re.UNICODE)\n",
        "        return regrex_pattern.sub(r'',text)\n",
        "    \n",
        "    def remove_numbers(text):\n",
        "        output = ''.join(c for c in text if not c.isdigit())\n",
        "        return output\n",
        "    \n",
        "    ct = deEmojify(text)\n",
        "    ct = remove_contractions(ct)\n",
        "    ct = strip_html_tags(ct)\n",
        "    ct = remove_accented_chars(ct)\n",
        "    ct = remove_punct(ct)\n",
        "    ct = remove_extra_space(ct)\n",
        "    ct = remove_numbers(ct)\n",
        "    return ct"
      ],
      "execution_count": null,
      "outputs": []
    },
    {
      "cell_type": "code",
      "metadata": {
        "id": "JPggxRIAKqz7"
      },
      "source": [
        "cleaned_data = data['req_body_note_desc'].apply(lambda x: text_cleaning(x))"
      ],
      "execution_count": null,
      "outputs": []
    },
    {
      "cell_type": "markdown",
      "metadata": {
        "id": "AYbLhHnkM8zc"
      },
      "source": [
        "<h3> Pre Processing </h3>"
      ]
    },
    {
      "cell_type": "code",
      "metadata": {
        "id": "sNbFp1isM_5H",
        "colab": {
          "base_uri": "https://localhost:8080/"
        },
        "outputId": "f1b891da-ff03-4dcd-cb34-adb740ed364d"
      },
      "source": [
        "import nltk\n",
        "from nltk.tokenize import word_tokenize\n",
        "from nltk.corpus import stopwords\n",
        "from nltk.stem import WordNetLemmatizer\n",
        "\n",
        "nltk.download('stopwords')\n",
        "nltk.download('punkt')\n",
        "nltk.download('wordnet')\n",
        "\n",
        "stop_words = set(stopwords.words('english'))\n",
        "wordnet_lemmatizer = WordNetLemmatizer()"
      ],
      "execution_count": null,
      "outputs": [
        {
          "output_type": "stream",
          "text": [
            "[nltk_data] Downloading package stopwords to /root/nltk_data...\n",
            "[nltk_data]   Unzipping corpora/stopwords.zip.\n",
            "[nltk_data] Downloading package punkt to /root/nltk_data...\n",
            "[nltk_data]   Unzipping tokenizers/punkt.zip.\n",
            "[nltk_data] Downloading package wordnet to /root/nltk_data...\n",
            "[nltk_data]   Unzipping corpora/wordnet.zip.\n"
          ],
          "name": "stdout"
        }
      ]
    },
    {
      "cell_type": "code",
      "metadata": {
        "id": "B5RTVOJHM7Rn"
      },
      "source": [
        "def lemmatizing(text):\n",
        "    tokens = word_tokenize(text)\n",
        "    lemmatized_word = [wordnet_lemmatizer.lemmatize(word) for word in tokens]\n",
        "    result = [i for i in lemmatized_word if not i in stop_words]\n",
        "    return result"
      ],
      "execution_count": null,
      "outputs": []
    },
    {
      "cell_type": "code",
      "metadata": {
        "id": "fQtTTzhmNTa1"
      },
      "source": [
        "raw_train = cleaned_data.apply(lambda x: lemmatizing(x))"
      ],
      "execution_count": null,
      "outputs": []
    },
    {
      "cell_type": "code",
      "metadata": {
        "colab": {
          "base_uri": "https://localhost:8080/"
        },
        "id": "Avv2KA-nOIRZ",
        "outputId": "fd355cf0-6fbf-48bb-f5a5-5331fd4215b8"
      },
      "source": [
        "raw_train"
      ],
      "execution_count": null,
      "outputs": [
        {
          "output_type": "execute_result",
          "data": {
            "text/plain": [
              "0      [top, recognize, eat, fact, spend, area, thing...\n",
              "1      [possible, american, many, prepare, four, stro...\n",
              "2                      [tuesday, note, like, xsp, class]\n",
              "3      [state, third, represent, energy, campaign, fo...\n",
              "4      [u, enjoy, since, time, identify, image, posit...\n",
              "                             ...                        \n",
              "995    [recently, crime, five, thought, bit, card, fo...\n",
              "996                                                   []\n",
              "997    [set, nature, low, resource, truth, edge, rece...\n",
              "998    [push, case, face, suffer, letter, middle, ter...\n",
              "999    [family, ready, stay, rule, full, yet, moment,...\n",
              "Name: req_body_note_desc, Length: 1000, dtype: object"
            ]
          },
          "metadata": {
            "tags": []
          },
          "execution_count": 22
        }
      ]
    },
    {
      "cell_type": "code",
      "metadata": {
        "id": "LAbRuJENPrma"
      },
      "source": [
        "unique_words = set()\n",
        "len_max = 0\n",
        "\n",
        "for sent in raw_train:\n",
        "    \n",
        "    unique_words.update(sent) # update the set with the list in the sent.\n",
        "    \n",
        "    if(len_max<len(sent)):\n",
        "        len_max = len(sent)"
      ],
      "execution_count": null,
      "outputs": []
    },
    {
      "cell_type": "code",
      "metadata": {
        "colab": {
          "base_uri": "https://localhost:8080/"
        },
        "id": "JVL9HbP0P5hT",
        "outputId": "3e2e67a7-6ca3-47e8-de32-cfa2a2fdb172"
      },
      "source": [
        "print(len_max, len(unique_words))"
      ],
      "execution_count": null,
      "outputs": [
        {
          "output_type": "stream",
          "text": [
            "31 878\n"
          ],
          "name": "stdout"
        }
      ]
    },
    {
      "cell_type": "markdown",
      "metadata": {
        "id": "LCm-5mG2mPLj"
      },
      "source": [
        "<h3>Train test Split </h3>"
      ]
    },
    {
      "cell_type": "code",
      "metadata": {
        "id": "SYFKA743mmQa"
      },
      "source": [
        "from sklearn.model_selection import train_test_split"
      ],
      "execution_count": null,
      "outputs": []
    },
    {
      "cell_type": "code",
      "metadata": {
        "id": "lroB-PxVzVe5"
      },
      "source": [
        " X_train, X_test, y_train, y_test  = train_test_split(raw_train, data['isSafe'].astype(int), test_size=0.2, random_state=42)\n",
        "\n",
        " X_train, X_val, y_train, y_val  = train_test_split(X_train, y_train, test_size=0.25, random_state=42) # 0.25 x 0.8 = 0.2"
      ],
      "execution_count": null,
      "outputs": []
    },
    {
      "cell_type": "code",
      "metadata": {
        "id": "Rjq0uGc1P-75"
      },
      "source": [
        "import tensorflow as tf \n",
        "from keras.utils import to_categorical\n",
        "from sklearn.model_selection import train_test_split\n",
        "from keras.preprocessing import sequence\n",
        "from keras.preprocessing.text import Tokenizer"
      ],
      "execution_count": null,
      "outputs": []
    },
    {
      "cell_type": "code",
      "metadata": {
        "id": "hifPdxq1Sk_V"
      },
      "source": [
        "tokenizer = Tokenizer(num_words=len(list(unique_words)))\n",
        "x_train_list = list(X_train)\n",
        "tokenizer.fit_on_texts(list(x_train_list))\n",
        "\n",
        "#texts_to_sequences(texts)\n",
        "\n",
        "# Arguments- texts: list of texts to turn to sequences.\n",
        "  #Return: list of sequences (one per text input).\n",
        "X_train = tokenizer.texts_to_sequences(X_train)\n",
        "X_test =  tokenizer.texts_to_sequences(X_test)\n",
        "X_val =  tokenizer.texts_to_sequences(X_val)"
      ],
      "execution_count": null,
      "outputs": []
    },
    {
      "cell_type": "code",
      "metadata": {
        "id": "GoB6d7GvThfJ"
      },
      "source": [
        "X_train = sequence.pad_sequences(X_train, maxlen=len_max)\n",
        "X_test = sequence.pad_sequences(X_test, maxlen=int(len_max))\n",
        "X_val = sequence.pad_sequences(X_val, maxlen=int(len_max))"
      ],
      "execution_count": null,
      "outputs": []
    },
    {
      "cell_type": "markdown",
      "metadata": {
        "id": "G3M81McBdhsP"
      },
      "source": [
        "<h2>Model</h2>"
      ]
    },
    {
      "cell_type": "code",
      "metadata": {
        "id": "RqNluW5zdo0w"
      },
      "source": [
        "from keras.callbacks import EarlyStopping\n",
        "from keras.losses import categorical_crossentropy\n",
        "from keras.optimizers import Adam\n",
        "from keras.models import Sequential\n",
        "from keras.layers import Dense, Activation, Embedding, Flatten, GlobalMaxPool1D, Dropout, Conv1D, LSTM, SpatialDropout1D, Bidirectional, GRU, GlobalAveragePooling1D\n",
        "from keras.callbacks import ReduceLROnPlateau, EarlyStopping, ModelCheckpoint\n",
        "from keras.optimizers import Adam, SGD"
      ],
      "execution_count": null,
      "outputs": []
    },
    {
      "cell_type": "code",
      "metadata": {
        "colab": {
          "base_uri": "https://localhost:8080/"
        },
        "id": "J6ZGyAnwduht",
        "outputId": "f810417c-a005-4f4a-d22c-99d52da65b6e"
      },
      "source": [
        "model=Sequential()\n",
        "model.add(Embedding(len(list(unique_words)),300,input_length=len_max))\n",
        "model.add(LSTM(128,dropout=0.5, recurrent_dropout=0.5,return_sequences=True))\n",
        "model.add(LSTM(64,dropout=0.5, recurrent_dropout=0.5,return_sequences=False))\n",
        "model.add(Dense(100,activation='relu'))\n",
        "model.add(Dropout(0.5))\n",
        "model.add(Dense(1,activation='sigmoid'))\n",
        "model.compile(loss='binary_crossentropy',optimizer=Adam(lr=0.005),metrics=[\"binary_accuracy\"])\n",
        "model.summary()"
      ],
      "execution_count": null,
      "outputs": [
        {
          "output_type": "stream",
          "text": [
            "Model: \"sequential\"\n",
            "_________________________________________________________________\n",
            "Layer (type)                 Output Shape              Param #   \n",
            "=================================================================\n",
            "embedding (Embedding)        (None, 31, 300)           263400    \n",
            "_________________________________________________________________\n",
            "lstm (LSTM)                  (None, 31, 128)           219648    \n",
            "_________________________________________________________________\n",
            "lstm_1 (LSTM)                (None, 64)                49408     \n",
            "_________________________________________________________________\n",
            "dense (Dense)                (None, 100)               6500      \n",
            "_________________________________________________________________\n",
            "dropout (Dropout)            (None, 100)               0         \n",
            "_________________________________________________________________\n",
            "dense_1 (Dense)              (None, 1)                 101       \n",
            "=================================================================\n",
            "Total params: 539,057\n",
            "Trainable params: 539,057\n",
            "Non-trainable params: 0\n",
            "_________________________________________________________________\n"
          ],
          "name": "stdout"
        }
      ]
    },
    {
      "cell_type": "code",
      "metadata": {
        "colab": {
          "base_uri": "https://localhost:8080/"
        },
        "id": "5xxr37NAdy7K",
        "outputId": "5ce43a2a-e3b9-4d60-fa2c-47bba76389ad"
      },
      "source": [
        "history = model.fit(X_train, y_train, batch_size=64, epochs=10, validation_data=(X_val, y_val))"
      ],
      "execution_count": null,
      "outputs": [
        {
          "output_type": "stream",
          "text": [
            "Epoch 1/10\n",
            "10/10 [==============================] - 3s 252ms/step - loss: 1.5291e-04 - binary_accuracy: 1.0000 - val_loss: 2.7090 - val_binary_accuracy: 0.7750\n",
            "Epoch 2/10\n",
            "10/10 [==============================] - 2s 248ms/step - loss: 3.2922e-05 - binary_accuracy: 1.0000 - val_loss: 2.7371 - val_binary_accuracy: 0.7750\n",
            "Epoch 3/10\n",
            "10/10 [==============================] - 2s 245ms/step - loss: 1.0677e-05 - binary_accuracy: 1.0000 - val_loss: 2.7521 - val_binary_accuracy: 0.7750\n",
            "Epoch 4/10\n",
            "10/10 [==============================] - 2s 246ms/step - loss: 1.0847e-05 - binary_accuracy: 1.0000 - val_loss: 2.7622 - val_binary_accuracy: 0.7750\n",
            "Epoch 5/10\n",
            "10/10 [==============================] - 2s 247ms/step - loss: 1.3424e-05 - binary_accuracy: 1.0000 - val_loss: 2.7720 - val_binary_accuracy: 0.7750\n",
            "Epoch 6/10\n",
            "10/10 [==============================] - 2s 249ms/step - loss: 3.5898e-05 - binary_accuracy: 1.0000 - val_loss: 2.7825 - val_binary_accuracy: 0.7750\n",
            "Epoch 7/10\n",
            "10/10 [==============================] - 2s 246ms/step - loss: 2.0044e-05 - binary_accuracy: 1.0000 - val_loss: 2.7950 - val_binary_accuracy: 0.7750\n",
            "Epoch 8/10\n",
            "10/10 [==============================] - 2s 248ms/step - loss: 9.9382e-06 - binary_accuracy: 1.0000 - val_loss: 2.8055 - val_binary_accuracy: 0.7750\n",
            "Epoch 9/10\n",
            "10/10 [==============================] - 2s 248ms/step - loss: 6.5569e-06 - binary_accuracy: 1.0000 - val_loss: 2.8126 - val_binary_accuracy: 0.7750\n",
            "Epoch 10/10\n",
            "10/10 [==============================] - 2s 246ms/step - loss: 1.0228e-05 - binary_accuracy: 1.0000 - val_loss: 2.8206 - val_binary_accuracy: 0.7750\n"
          ],
          "name": "stdout"
        }
      ]
    },
    {
      "cell_type": "code",
      "metadata": {
        "colab": {
          "base_uri": "https://localhost:8080/",
          "height": 282
        },
        "id": "ASXfNJxRd4TQ",
        "outputId": "5e83e591-a6a7-4519-aab1-9b4b9521582d"
      },
      "source": [
        "# Create count of the number of epochs\n",
        "epoch_count = range(1, len(history.history['loss']) + 1)\n",
        "import matplotlib.pyplot as plt\n",
        "\n",
        "# Visualize learning curve. Here learning curve is not ideal.\n",
        "plt.plot(epoch_count, history.history['loss'], 'r--')\n",
        "plt.plot(epoch_count, history.history['val_loss'], 'b-')\n",
        "plt.legend(['Training Loss', 'Validation Loss'])"
      ],
      "execution_count": null,
      "outputs": [
        {
          "output_type": "execute_result",
          "data": {
            "text/plain": [
              "<matplotlib.legend.Legend at 0x7f17b6299438>"
            ]
          },
          "metadata": {
            "tags": []
          },
          "execution_count": 72
        },
        {
          "output_type": "display_data",
          "data": {
            "image/png": "[encoded data removed]",
            "text/plain": [
              "<Figure size 432x288 with 1 Axes>"
            ]
          },
          "metadata": {
            "tags": [],
            "needs_background": "light"
          }
        }
      ]
    },
    {
      "cell_type": "code",
      "metadata": {
        "id": "W8uyBAPyeeFV"
      },
      "source": [
        "pred = model.predict(X_test)"
      ],
      "execution_count": null,
      "outputs": []
    },
    {
      "cell_type": "code",
      "metadata": {
        "id": "q_0AxRqfeqAi"
      },
      "source": [
        "pred = (pred >= 0.5).astype(int)"
      ],
      "execution_count": null,
      "outputs": []
    },
    {
      "cell_type": "code",
      "metadata": {
        "id": "34kGm2Dmez3b"
      },
      "source": [
        "from sklearn.metrics import accuracy_score\n",
        "from sklearn.metrics import confusion_matrix\n",
        "import sklearn.metrics as skm\n",
        "from sklearn.metrics import plot_confusion_matrix, f1_score"
      ],
      "execution_count": null,
      "outputs": []
    },
    {
      "cell_type": "code",
      "metadata": {
        "id": "CBYZn7E2fi6a"
      },
      "source": [
        "cf_matrix = confusion_matrix(y_test, pred)"
      ],
      "execution_count": null,
      "outputs": []
    },
    {
      "cell_type": "code",
      "metadata": {
        "id": "XB2DK0sSf41b"
      },
      "source": [
        "import seaborn as sns"
      ],
      "execution_count": null,
      "outputs": []
    },
    {
      "cell_type": "code",
      "metadata": {
        "id": "OwSMOqmwhwJq"
      },
      "source": [
        "group_names = [\"True Neg\",\"False Pos\",\"False Neg\",\"True Pos\"]\n",
        "group_counts = [\"{0:0.0f}\".format(value) for value in cf_matrix.flatten()]\n",
        "group_percentages = [\"{0:.2%}\".format(value) for value in\n",
        "                     cf_matrix.flatten()/np.sum(cf_matrix)]\n",
        "labels = [f\"{v1}\\n{v2}\\n{v3}\" for v1, v2, v3 in\n",
        "          zip(group_names,group_counts,group_percentages)]\n",
        "labels = np.asarray(labels).reshape(2,2)\n",
        "sns.heatmap(cf_matrix, annot=labels, fmt=\"\", cmap='Blues')"
      ],
      "execution_count": null,
      "outputs": []
    },
    {
      "cell_type": "code",
      "metadata": {
        "id": "WalynHMbiZmu"
      },
      "source": [
        ""
      ],
      "execution_count": null,
      "outputs": []
    },
    {
      "cell_type": "code",
      "metadata": {
        "id": "Vfy_rfQKh-SV"
      },
      "source": [
        ""
      ],
      "execution_count": null,
      "outputs": []
    }
  ]
}